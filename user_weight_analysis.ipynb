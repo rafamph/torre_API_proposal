{
  "nbformat": 4,
  "nbformat_minor": 0,
  "metadata": {
    "colab": {
      "name": "user_weight_analysis.ipynb",
      "provenance": [],
      "collapsed_sections": []
    },
    "kernelspec": {
      "name": "python3",
      "display_name": "Python 3"
    }
  },
  "cells": [
    {
      "cell_type": "code",
      "metadata": {
        "id": "GP6E73pECcFe",
        "colab_type": "code",
        "colab": {}
      },
      "source": [
        "import requests\n",
        "import json"
      ],
      "execution_count": 0,
      "outputs": []
    },
    {
      "cell_type": "code",
      "metadata": {
        "id": "SFCxJIyTCfsq",
        "colab_type": "code",
        "colab": {}
      },
      "source": [
        "#I chose Alexander Torrenegra because he is the most popular person on the platform. He has a great source of user recommendation data\n",
        "username = \"torrenegra\"\n",
        "#Let's not limit degrees of separation to less than 6 because we want to analyze as much data as possible\n",
        "limit = 6\n",
        "#Let's call the API for analyzing profile's connections\n",
        "url = (\"https://torre.bio/api/people/%s/network?[deep=%s]\" % (username, limit))\n",
        "headers = {'User-Agent': 'Mozilla/5.0 (Macintosh; Intel Mac OS X 10_10_1) AppleWebKit/537.36 (KHTML, like Gecko) Chrome/39.0.2171.95 Safari/537.36'}\n",
        "response = requests.get(url, headers = headers)"
      ],
      "execution_count": 0,
      "outputs": []
    },
    {
      "cell_type": "code",
      "metadata": {
        "id": "wsGsMR4aDKGq",
        "colab_type": "code",
        "colab": {}
      },
      "source": [
        "#Parse the JSON object only filtering the publicId (for filtering use later on) and the weight of the profile's connections\n",
        "people_by_connection = response.json()[\"graph\"][\"nodes\"]\n",
        "all_ids = {}\n",
        "\n",
        "for people in people_by_connection:\n",
        "  try:\n",
        "    all_ids[people[\"metadata\"][\"publicId\"]] = people[\"metadata\"][\"weight\"]\n",
        "  except:\n",
        "    pass"
      ],
      "execution_count": 0,
      "outputs": []
    },
    {
      "cell_type": "code",
      "metadata": {
        "id": "9PtrsgiZDl9G",
        "colab_type": "code",
        "colab": {}
      },
      "source": [
        "#Remove extreme outliers considering users with 0 or 20,000 in weight\n",
        "non_zero_users = { k: all_ids[k] for k,v in all_ids.items() if v >= 2}\n",
        "\n",
        "scores = list(non_zero_users.values())\n",
        "scores.remove(max(scores))"
      ],
      "execution_count": 0,
      "outputs": []
    },
    {
      "cell_type": "code",
      "metadata": {
        "id": "tN-idOx_bWvZ",
        "colab_type": "code",
        "outputId": "73b2e3d1-34ec-4705-ce14-3f6b098fd093",
        "colab": {
          "base_uri": "https://localhost:8080/",
          "height": 446
        }
      },
      "source": [
        "#Visual representation of Q1, average, Q3, min, max\n",
        "import seaborn as sns\n",
        "sns.boxplot(scores)\n",
        "plt.show()"
      ],
      "execution_count": 0,
      "outputs": [
        {
          "output_type": "error",
          "ename": "NameError",
          "evalue": "ignored",
          "traceback": [
            "\u001b[0;31m---------------------------------------------------------------------------\u001b[0m",
            "\u001b[0;31mNameError\u001b[0m                                 Traceback (most recent call last)",
            "\u001b[0;32m<ipython-input-6-e844a7054bf8>\u001b[0m in \u001b[0;36m<module>\u001b[0;34m()\u001b[0m\n\u001b[1;32m      1\u001b[0m \u001b[0;32mimport\u001b[0m \u001b[0mseaborn\u001b[0m \u001b[0;32mas\u001b[0m \u001b[0msns\u001b[0m\u001b[0;34m\u001b[0m\u001b[0;34m\u001b[0m\u001b[0m\n\u001b[1;32m      2\u001b[0m \u001b[0msns\u001b[0m\u001b[0;34m.\u001b[0m\u001b[0mboxplot\u001b[0m\u001b[0;34m(\u001b[0m\u001b[0mscores\u001b[0m\u001b[0;34m)\u001b[0m\u001b[0;34m\u001b[0m\u001b[0;34m\u001b[0m\u001b[0m\n\u001b[0;32m----> 3\u001b[0;31m \u001b[0mplt\u001b[0m\u001b[0;34m.\u001b[0m\u001b[0mshow\u001b[0m\u001b[0;34m(\u001b[0m\u001b[0;34m)\u001b[0m\u001b[0;34m\u001b[0m\u001b[0;34m\u001b[0m\u001b[0m\n\u001b[0m",
            "\u001b[0;31mNameError\u001b[0m: name 'plt' is not defined"
          ]
        },
        {
          "output_type": "display_data",
          "data": {
            "image/png": "[encoded data removed]",
            "text/plain": [
              "<Figure size 432x288 with 1 Axes>"
            ]
          },
          "metadata": {
            "tags": []
          }
        }
      ]
    },
    {
      "cell_type": "code",
      "metadata": {
        "id": "q-UMt3Q7b9wX",
        "colab_type": "code",
        "outputId": "ddc987eb-3d2e-41a1-d447-ff70b689b24a",
        "colab": {
          "base_uri": "https://localhost:8080/",
          "height": 153
        }
      },
      "source": [
        "# calculate a 5-number summary\n",
        "from numpy import percentile\n",
        "from numpy.random import rand\n",
        "# calculate quartiles\n",
        "quartiles = percentile(scores, [25, 50, 75, 90, 95, 99])\n",
        "# calculate min/max\n",
        "score_min, score_max = min(scores), max(scores)\n",
        "# print 5-number summary\n",
        "print('Min: %.3f' % score_min)\n",
        "print('Q1: %.3f' % quartiles[0])\n",
        "print('Median: %.3f' % quartiles[1])\n",
        "print('Q3: %.3f' % quartiles[2])\n",
        "print('90 percentile: %.3f' % quartiles[3])\n",
        "print('95 percentile: %.3f' % quartiles[4])\n",
        "print('99 percentile: %.3f' % quartiles[5])\n",
        "print('Max: %.3f' % score_max)"
      ],
      "execution_count": 133,
      "outputs": [
        {
          "output_type": "stream",
          "text": [
            "Min: 2.070\n",
            "Q1: 224.033\n",
            "Median: 851.047\n",
            "Q3: 1316.935\n",
            "90 percentile: 2551.047\n",
            "95 percentile: 3620.460\n",
            "99 percentile: 6369.716\n",
            "Max: 10264.679\n"
          ],
          "name": "stdout"
        }
      ]
    },
    {
      "cell_type": "code",
      "metadata": {
        "id": "zaBEcduFDLYG",
        "colab_type": "code",
        "colab": {}
      },
      "source": [
        "#Filter all users below 90 percentile\n",
        "top_90_users = { k: all_ids[k] for k,v in all_ids.items() if v >= quartiles[3] }"
      ],
      "execution_count": 0,
      "outputs": []
    },
    {
      "cell_type": "code",
      "metadata": {
        "id": "7uoGbV35nNEy",
        "colab_type": "code",
        "outputId": "3d2363f9-f678-4a47-b530-ab376ea739be",
        "colab": {
          "base_uri": "https://localhost:8080/",
          "height": 34
        }
      },
      "source": [
        "#Count how many users meet our criteria\n",
        "userIDs = list(top_90_users)\n",
        "print(len(userIDs))"
      ],
      "execution_count": 136,
      "outputs": [
        {
          "output_type": "stream",
          "text": [
            "75\n"
          ],
          "name": "stdout"
        }
      ]
    },
    {
      "cell_type": "code",
      "metadata": {
        "id": "muFIW2m3ecXQ",
        "colab_type": "code",
        "colab": {}
      },
      "source": [
        "#Extract profile data from Torre API waiting between 1 and 2 seconds per call  \n",
        "import time, random\n",
        "features_top_90_users = []\n",
        "for userID in userIDs:\n",
        "  url2 = (\"https://torre.bio/api/bios/%s\" % (userID))\n",
        "  response2 = requests.get(url2, headers=headers)\n",
        "  features_top_90_users.append(response2)\n",
        "  time.sleep(random.randint(1,2))"
      ],
      "execution_count": 0,
      "outputs": []
    },
    {
      "cell_type": "code",
      "metadata": {
        "colab_type": "code",
        "id": "nnVwexG8ZLbT",
        "colab": {}
      },
      "source": [
        "#Extract all relevant features from users, including numbers and booleans. With more time we can explore using NLTK for strings.\n",
        "user_and_features = {}\n",
        "\n",
        "for user in features_top_90_users:\n",
        "  tmp_dict = {}\n",
        "  name = user.json()[\"person\"][\"name\"]\n",
        "  for feature in user.json().keys():\n",
        "    try:\n",
        "      for subfeature in user.json()[feature].keys():\n",
        "          results = (user.json()[feature][subfeature])\n",
        "          if isinstance(results,float) or isinstance(results,bool) or isinstance(results,int):\n",
        "            tmp_dict[subfeature] = results\n",
        "    except:\n",
        "      pass\n",
        "  user_and_features[name] = tmp_dict"
      ],
      "execution_count": 0,
      "outputs": []
    },
    {
      "cell_type": "code",
      "metadata": {
        "id": "vj_iOu4zRM_P",
        "colab_type": "code",
        "colab": {}
      },
      "source": [
        "#Our last code doesn't explore DFS, only the first two entries. This code will help us later to extract all features possible\n",
        "def iterdict(d):\n",
        "  for k,v in d.items():        \n",
        "     if isinstance(v, dict):\n",
        "         iterdict(v)\n",
        "     else:            \n",
        "         print (k,\":\",v)"
      ],
      "execution_count": 0,
      "outputs": []
    },
    {
      "cell_type": "code",
      "metadata": {
        "id": "h8UTqg1WDDG5",
        "colab_type": "code",
        "outputId": "6b06bb25-b3fb-4bff-b655-cf9ae38ea818",
        "colab": {
          "base_uri": "https://localhost:8080/",
          "height": 238
        }
      },
      "source": [
        "#Not every user has the same features, therefore we first want to see which features are more common in Torre profiles\n",
        "repeated_features = []\n",
        "\n",
        "for name2 in user_and_features:\n",
        "  for features2 in user_and_features[name2]:\n",
        "    repeated_features.append(features2)\n",
        "\n",
        "unique_features = list(set(repeated_features))\n",
        "incomplete_features = []\n",
        "\n",
        "for unique in unique_features:\n",
        "  incomplete_features.append(unique)\n",
        "  print({unique: repeated_features.count(unique)})\n",
        "    "
      ],
      "execution_count": 140,
      "outputs": [
        {
          "output_type": "stream",
          "text": [
            "{'weight': 75}\n",
            "{'publications': 11}\n",
            "{'hasEmail': 75}\n",
            "{'verified': 75}\n",
            "{'showPhone': 75}\n",
            "{'completion': 75}\n",
            "{'education': 61}\n",
            "{'achievements': 39}\n",
            "{'interests': 49}\n",
            "{'claimant': 75}\n",
            "{'projects': 36}\n",
            "{'strengths': 75}\n",
            "{'jobs': 70}\n"
          ],
          "name": "stdout"
        }
      ]
    },
    {
      "cell_type": "code",
      "metadata": {
        "id": "OCyW-6SNI9S7",
        "colab_type": "code",
        "colab": {}
      },
      "source": [
        "#Fill up missing features using 0s\n",
        "for k3,v3 in user_and_features.items():\n",
        "  for incomplete in incomplete_features:\n",
        "    if incomplete not in v3:\n",
        "      user_and_features[k3][incomplete] = 0\n"
      ],
      "execution_count": 0,
      "outputs": []
    },
    {
      "cell_type": "code",
      "metadata": {
        "id": "TQM9wXKlb8Ru",
        "colab_type": "code",
        "colab": {
          "base_uri": "https://localhost:8080/",
          "height": 238
        },
        "outputId": "45776463-a7ae-4a25-ef35-a0b85788f885"
      },
      "source": [
        "#Make sure all users include the same features altough some features are filled with zeros. \n",
        "#THE PURPOSE OF THIS IS TO CORRECTLY FORMAT THE DATA FOR LATER USE IN A DEEP LEARNING ALGORITHM\n",
        "\n",
        "repeated_features = []\n",
        "\n",
        "for name2 in user_and_features:\n",
        "  for features2 in user_and_features[name2]:\n",
        "    repeated_features.append(features2)\n",
        "\n",
        "unique_features = list(set(repeated_features))\n",
        "incomplete_features = []\n",
        "\n",
        "for unique in unique_features:\n",
        "  print({unique: repeated_features.count(unique)})\n",
        "    "
      ],
      "execution_count": 142,
      "outputs": [
        {
          "output_type": "stream",
          "text": [
            "{'weight': 75}\n",
            "{'publications': 75}\n",
            "{'hasEmail': 75}\n",
            "{'verified': 75}\n",
            "{'showPhone': 75}\n",
            "{'completion': 75}\n",
            "{'education': 75}\n",
            "{'achievements': 75}\n",
            "{'interests': 75}\n",
            "{'claimant': 75}\n",
            "{'projects': 75}\n",
            "{'strengths': 75}\n",
            "{'jobs': 75}\n"
          ],
          "name": "stdout"
        }
      ]
    },
    {
      "cell_type": "code",
      "metadata": {
        "id": "cJgwBXrtd35U",
        "colab_type": "code",
        "colab": {
          "base_uri": "https://localhost:8080/",
          "height": 360
        },
        "outputId": "0331a553-1728-468e-d4a3-dfcfa42450ed"
      },
      "source": [
        "#Let's take a look at how our data looks at first\n",
        "import pandas as pd\n",
        "df = pd.DataFrame(user_and_features)\n",
        "df = df.transpose()\n",
        "\n",
        "#Convert our data from boolean to binary\n",
        "df*1\n",
        "\n",
        "df.head(5)"
      ],
      "execution_count": 146,
      "outputs": [
        {
          "output_type": "execute_result",
          "data": {
            "text/html": [
              "<div>\n",
              "<style scoped>\n",
              "    .dataframe tbody tr th:only-of-type {\n",
              "        vertical-align: middle;\n",
              "    }\n",
              "\n",
              "    .dataframe tbody tr th {\n",
              "        vertical-align: top;\n",
              "    }\n",
              "\n",
              "    .dataframe thead th {\n",
              "        text-align: right;\n",
              "    }\n",
              "</style>\n",
              "<table border=\"1\" class=\"dataframe\">\n",
              "  <thead>\n",
              "    <tr style=\"text-align: right;\">\n",
              "      <th></th>\n",
              "      <th>completion</th>\n",
              "      <th>showPhone</th>\n",
              "      <th>verified</th>\n",
              "      <th>weight</th>\n",
              "      <th>hasEmail</th>\n",
              "      <th>claimant</th>\n",
              "      <th>strengths</th>\n",
              "      <th>education</th>\n",
              "      <th>interests</th>\n",
              "      <th>jobs</th>\n",
              "      <th>projects</th>\n",
              "      <th>achievements</th>\n",
              "      <th>publications</th>\n",
              "    </tr>\n",
              "  </thead>\n",
              "  <tbody>\n",
              "    <tr>\n",
              "      <th>Beto Saavedra</th>\n",
              "      <td>1</td>\n",
              "      <td>False</td>\n",
              "      <td>True</td>\n",
              "      <td>3619.14</td>\n",
              "      <td>True</td>\n",
              "      <td>True</td>\n",
              "      <td>21</td>\n",
              "      <td>1</td>\n",
              "      <td>3</td>\n",
              "      <td>11</td>\n",
              "      <td>5</td>\n",
              "      <td>1</td>\n",
              "      <td>0</td>\n",
              "    </tr>\n",
              "    <tr>\n",
              "      <th>Mauricio Robles</th>\n",
              "      <td>0.9231</td>\n",
              "      <td>True</td>\n",
              "      <td>True</td>\n",
              "      <td>2710.82</td>\n",
              "      <td>True</td>\n",
              "      <td>True</td>\n",
              "      <td>18</td>\n",
              "      <td>7</td>\n",
              "      <td>3</td>\n",
              "      <td>8</td>\n",
              "      <td>0</td>\n",
              "      <td>5</td>\n",
              "      <td>8</td>\n",
              "    </tr>\n",
              "    <tr>\n",
              "      <th>Alexander Torrenegra</th>\n",
              "      <td>1</td>\n",
              "      <td>False</td>\n",
              "      <td>True</td>\n",
              "      <td>19758.2</td>\n",
              "      <td>True</td>\n",
              "      <td>True</td>\n",
              "      <td>23</td>\n",
              "      <td>5</td>\n",
              "      <td>5</td>\n",
              "      <td>10</td>\n",
              "      <td>10</td>\n",
              "      <td>7</td>\n",
              "      <td>11</td>\n",
              "    </tr>\n",
              "    <tr>\n",
              "      <th>Alvaro Andres Salom D Luyz</th>\n",
              "      <td>1</td>\n",
              "      <td>False</td>\n",
              "      <td>True</td>\n",
              "      <td>4854.28</td>\n",
              "      <td>True</td>\n",
              "      <td>True</td>\n",
              "      <td>81</td>\n",
              "      <td>3</td>\n",
              "      <td>3</td>\n",
              "      <td>7</td>\n",
              "      <td>0</td>\n",
              "      <td>3</td>\n",
              "      <td>0</td>\n",
              "    </tr>\n",
              "    <tr>\n",
              "      <th>Daniela Avila Gomez</th>\n",
              "      <td>1</td>\n",
              "      <td>False</td>\n",
              "      <td>True</td>\n",
              "      <td>9395.08</td>\n",
              "      <td>True</td>\n",
              "      <td>True</td>\n",
              "      <td>23</td>\n",
              "      <td>4</td>\n",
              "      <td>5</td>\n",
              "      <td>8</td>\n",
              "      <td>25</td>\n",
              "      <td>6</td>\n",
              "      <td>0</td>\n",
              "    </tr>\n",
              "  </tbody>\n",
              "</table>\n",
              "</div>"
            ],
            "text/plain": [
              "                           completion showPhone  ... achievements publications\n",
              "Beto Saavedra                       1     False  ...            1            0\n",
              "Mauricio Robles                0.9231      True  ...            5            8\n",
              "Alexander Torrenegra                1     False  ...            7           11\n",
              "Alvaro Andres Salom D Luyz          1     False  ...            3            0\n",
              "Daniela Avila Gomez                 1     False  ...            6            0\n",
              "\n",
              "[5 rows x 13 columns]"
            ]
          },
          "metadata": {
            "tags": []
          },
          "execution_count": 146
        }
      ]
    },
    {
      "cell_type": "code",
      "metadata": {
        "id": "HjjyRmZea9eM",
        "colab_type": "code",
        "colab": {
          "base_uri": "https://localhost:8080/",
          "height": 694
        },
        "outputId": "093883d0-01c0-4eca-b10a-313ee11bb186"
      },
      "source": [
        ""
      ],
      "execution_count": 145,
      "outputs": [
        {
          "output_type": "execute_result",
          "data": {
            "text/html": [
              "<div>\n",
              "<style scoped>\n",
              "    .dataframe tbody tr th:only-of-type {\n",
              "        vertical-align: middle;\n",
              "    }\n",
              "\n",
              "    .dataframe tbody tr th {\n",
              "        vertical-align: top;\n",
              "    }\n",
              "\n",
              "    .dataframe thead th {\n",
              "        text-align: right;\n",
              "    }\n",
              "</style>\n",
              "<table border=\"1\" class=\"dataframe\">\n",
              "  <thead>\n",
              "    <tr style=\"text-align: right;\">\n",
              "      <th></th>\n",
              "      <th>completion</th>\n",
              "      <th>showPhone</th>\n",
              "      <th>verified</th>\n",
              "      <th>weight</th>\n",
              "      <th>hasEmail</th>\n",
              "      <th>claimant</th>\n",
              "      <th>strengths</th>\n",
              "      <th>education</th>\n",
              "      <th>interests</th>\n",
              "      <th>jobs</th>\n",
              "      <th>projects</th>\n",
              "      <th>achievements</th>\n",
              "      <th>publications</th>\n",
              "    </tr>\n",
              "  </thead>\n",
              "  <tbody>\n",
              "    <tr>\n",
              "      <th>Beto Saavedra</th>\n",
              "      <td>1</td>\n",
              "      <td>0</td>\n",
              "      <td>1</td>\n",
              "      <td>3619.14</td>\n",
              "      <td>1</td>\n",
              "      <td>1</td>\n",
              "      <td>21</td>\n",
              "      <td>1</td>\n",
              "      <td>3</td>\n",
              "      <td>11</td>\n",
              "      <td>5</td>\n",
              "      <td>1</td>\n",
              "      <td>0</td>\n",
              "    </tr>\n",
              "    <tr>\n",
              "      <th>Mauricio Robles</th>\n",
              "      <td>0.9231</td>\n",
              "      <td>1</td>\n",
              "      <td>1</td>\n",
              "      <td>2710.82</td>\n",
              "      <td>1</td>\n",
              "      <td>1</td>\n",
              "      <td>18</td>\n",
              "      <td>7</td>\n",
              "      <td>3</td>\n",
              "      <td>8</td>\n",
              "      <td>0</td>\n",
              "      <td>5</td>\n",
              "      <td>8</td>\n",
              "    </tr>\n",
              "    <tr>\n",
              "      <th>Alexander Torrenegra</th>\n",
              "      <td>1</td>\n",
              "      <td>0</td>\n",
              "      <td>1</td>\n",
              "      <td>19758.2</td>\n",
              "      <td>1</td>\n",
              "      <td>1</td>\n",
              "      <td>23</td>\n",
              "      <td>5</td>\n",
              "      <td>5</td>\n",
              "      <td>10</td>\n",
              "      <td>10</td>\n",
              "      <td>7</td>\n",
              "      <td>11</td>\n",
              "    </tr>\n",
              "    <tr>\n",
              "      <th>Alvaro Andres Salom D Luyz</th>\n",
              "      <td>1</td>\n",
              "      <td>0</td>\n",
              "      <td>1</td>\n",
              "      <td>4854.28</td>\n",
              "      <td>1</td>\n",
              "      <td>1</td>\n",
              "      <td>81</td>\n",
              "      <td>3</td>\n",
              "      <td>3</td>\n",
              "      <td>7</td>\n",
              "      <td>0</td>\n",
              "      <td>3</td>\n",
              "      <td>0</td>\n",
              "    </tr>\n",
              "    <tr>\n",
              "      <th>Daniela Avila Gomez</th>\n",
              "      <td>1</td>\n",
              "      <td>0</td>\n",
              "      <td>1</td>\n",
              "      <td>9395.08</td>\n",
              "      <td>1</td>\n",
              "      <td>1</td>\n",
              "      <td>23</td>\n",
              "      <td>4</td>\n",
              "      <td>5</td>\n",
              "      <td>8</td>\n",
              "      <td>25</td>\n",
              "      <td>6</td>\n",
              "      <td>0</td>\n",
              "    </tr>\n",
              "    <tr>\n",
              "      <th>...</th>\n",
              "      <td>...</td>\n",
              "      <td>...</td>\n",
              "      <td>...</td>\n",
              "      <td>...</td>\n",
              "      <td>...</td>\n",
              "      <td>...</td>\n",
              "      <td>...</td>\n",
              "      <td>...</td>\n",
              "      <td>...</td>\n",
              "      <td>...</td>\n",
              "      <td>...</td>\n",
              "      <td>...</td>\n",
              "      <td>...</td>\n",
              "    </tr>\n",
              "    <tr>\n",
              "      <th>Brian Requarth</th>\n",
              "      <td>0.3077</td>\n",
              "      <td>1</td>\n",
              "      <td>1</td>\n",
              "      <td>6518.16</td>\n",
              "      <td>1</td>\n",
              "      <td>1</td>\n",
              "      <td>2</td>\n",
              "      <td>0</td>\n",
              "      <td>0</td>\n",
              "      <td>0</td>\n",
              "      <td>0</td>\n",
              "      <td>1</td>\n",
              "      <td>0</td>\n",
              "    </tr>\n",
              "    <tr>\n",
              "      <th>Daniella Gonzalez Rubio</th>\n",
              "      <td>0.8462</td>\n",
              "      <td>1</td>\n",
              "      <td>1</td>\n",
              "      <td>6408.93</td>\n",
              "      <td>1</td>\n",
              "      <td>1</td>\n",
              "      <td>9</td>\n",
              "      <td>6</td>\n",
              "      <td>3</td>\n",
              "      <td>3</td>\n",
              "      <td>0</td>\n",
              "      <td>1</td>\n",
              "      <td>0</td>\n",
              "    </tr>\n",
              "    <tr>\n",
              "      <th>Andrés Felipe Cajiao</th>\n",
              "      <td>0.3846</td>\n",
              "      <td>1</td>\n",
              "      <td>1</td>\n",
              "      <td>2872.59</td>\n",
              "      <td>1</td>\n",
              "      <td>1</td>\n",
              "      <td>9</td>\n",
              "      <td>0</td>\n",
              "      <td>0</td>\n",
              "      <td>0</td>\n",
              "      <td>0</td>\n",
              "      <td>0</td>\n",
              "      <td>0</td>\n",
              "    </tr>\n",
              "    <tr>\n",
              "      <th>Patrick McGinnis</th>\n",
              "      <td>0.5385</td>\n",
              "      <td>1</td>\n",
              "      <td>1</td>\n",
              "      <td>5668.16</td>\n",
              "      <td>1</td>\n",
              "      <td>1</td>\n",
              "      <td>4</td>\n",
              "      <td>4</td>\n",
              "      <td>0</td>\n",
              "      <td>16</td>\n",
              "      <td>4</td>\n",
              "      <td>0</td>\n",
              "      <td>2</td>\n",
              "    </tr>\n",
              "    <tr>\n",
              "      <th>Andres Suarez</th>\n",
              "      <td>0.4615</td>\n",
              "      <td>1</td>\n",
              "      <td>1</td>\n",
              "      <td>5535.78</td>\n",
              "      <td>1</td>\n",
              "      <td>1</td>\n",
              "      <td>10</td>\n",
              "      <td>2</td>\n",
              "      <td>0</td>\n",
              "      <td>10</td>\n",
              "      <td>1</td>\n",
              "      <td>1</td>\n",
              "      <td>0</td>\n",
              "    </tr>\n",
              "  </tbody>\n",
              "</table>\n",
              "<p>75 rows × 13 columns</p>\n",
              "</div>"
            ],
            "text/plain": [
              "                           completion showPhone  ... achievements publications\n",
              "Beto Saavedra                       1         0  ...            1            0\n",
              "Mauricio Robles                0.9231         1  ...            5            8\n",
              "Alexander Torrenegra                1         0  ...            7           11\n",
              "Alvaro Andres Salom D Luyz          1         0  ...            3            0\n",
              "Daniela Avila Gomez                 1         0  ...            6            0\n",
              "...                               ...       ...  ...          ...          ...\n",
              "Brian Requarth                 0.3077         1  ...            1            0\n",
              "Daniella Gonzalez Rubio        0.8462         1  ...            1            0\n",
              "Andrés Felipe Cajiao           0.3846         1  ...            0            0\n",
              "Patrick McGinnis               0.5385         1  ...            0            2\n",
              "Andres Suarez                  0.4615         1  ...            1            0\n",
              "\n",
              "[75 rows x 13 columns]"
            ]
          },
          "metadata": {
            "tags": []
          },
          "execution_count": 145
        }
      ]
    },
    {
      "cell_type": "code",
      "metadata": {
        "id": "iOOOBlV2hi5k",
        "colab_type": "code",
        "colab": {}
      },
      "source": [
        ""
      ],
      "execution_count": 0,
      "outputs": []
    }
  ]
}
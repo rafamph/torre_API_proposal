{
  "nbformat": 4,
  "nbformat_minor": 0,
  "metadata": {
    "colab": {
      "name": "user_weight_analysis.ipynb",
      "provenance": [],
      "collapsed_sections": []
    },
    "kernelspec": {
      "name": "python3",
      "display_name": "Python 3"
    }
  },
  "cells": [
    {
      "cell_type": "code",
      "metadata": {
        "id": "GP6E73pECcFe",
        "colab_type": "code",
        "colab": {}
      },
      "source": [
        "import requests\n",
        "import json"
      ],
      "execution_count": 0,
      "outputs": []
    },
    {
      "cell_type": "code",
      "metadata": {
        "id": "SFCxJIyTCfsq",
        "colab_type": "code",
        "colab": {}
      },
      "source": [
        "#I chose Alexander Torrenegra because he is the most popular person on the platform. He has a great source of user recommendation data\n",
        "username = \"torrenegra\"\n",
        "#Let's not limit degrees of separation to less than 6 because we want to analyze as much data as possible\n",
        "limit = 6\n",
        "#Let's call the API for analyzing profile's connections\n",
        "url = (\"https://torre.bio/api/people/%s/network?[deep=%s]\" % (username, limit))\n",
        "headers = {'User-Agent': 'Mozilla/5.0 (Macintosh; Intel Mac OS X 10_10_1) AppleWebKit/537.36 (KHTML, like Gecko) Chrome/39.0.2171.95 Safari/537.36'}\n",
        "response = requests.get(url, headers = headers)"
      ],
      "execution_count": 0,
      "outputs": []
    },
    {
      "cell_type": "code",
      "metadata": {
        "id": "wsGsMR4aDKGq",
        "colab_type": "code",
        "colab": {}
      },
      "source": [
        "#Parse the JSON object only filtering the publicId (for filtering use later on) and the weight of the profile's connections\n",
        "people_by_connection = response.json()[\"graph\"][\"nodes\"]\n",
        "all_ids = {}\n",
        "\n",
        "for people in people_by_connection:\n",
        "  try:\n",
        "    all_ids[people[\"metadata\"][\"publicId\"]] = people[\"metadata\"][\"weight\"]\n",
        "  except:\n",
        "    pass"
      ],
      "execution_count": 0,
      "outputs": []
    },
    {
      "cell_type": "code",
      "metadata": {
        "id": "9PtrsgiZDl9G",
        "colab_type": "code",
        "colab": {}
      },
      "source": [
        "#Remove extreme outliers considering users with 0 or 20,000 in weight\n",
        "non_zero_users = { k: all_ids[k] for k,v in all_ids.items() if v >= 2}\n",
        "\n",
        "scores = list(non_zero_users.values())\n",
        "scores.remove(max(scores))"
      ],
      "execution_count": 0,
      "outputs": []
    },
    {
      "cell_type": "code",
      "metadata": {
        "id": "tN-idOx_bWvZ",
        "colab_type": "code",
        "colab": {
          "base_uri": "https://localhost:8080/",
          "height": 265
        },
        "outputId": "1862f659-4670-4a88-ddfa-d2bd3a07b54f"
      },
      "source": [
        "#Visual representation of Q1, average, Q3, min, max\n",
        "import seaborn as sns\n",
        "sns.boxplot(scores)\n",
        "plt.show()"
      ],
      "execution_count": 229,
      "outputs": [
        {
          "output_type": "display_data",
          "data": {
            "image/png": "[encoded data removed]",
            "text/plain": [
              "<Figure size 432x288 with 1 Axes>"
            ]
          },
          "metadata": {
            "tags": []
          }
        }
      ]
    },
    {
      "cell_type": "code",
      "metadata": {
        "id": "q-UMt3Q7b9wX",
        "colab_type": "code",
        "colab": {
          "base_uri": "https://localhost:8080/",
          "height": 153
        },
        "outputId": "fd785674-827c-4c39-97af-28d157cce98b"
      },
      "source": [
        "# calculate a 5-number summary\n",
        "from numpy import percentile\n",
        "from numpy.random import rand\n",
        "# calculate quartiles\n",
        "quartiles = percentile(scores, [25, 50, 75, 90, 95, 99])\n",
        "# calculate min/max\n",
        "score_min, score_max = min(scores), max(scores)\n",
        "# print 5-number summary\n",
        "print('Min: %.3f' % score_min)\n",
        "print('Q1: %.3f' % quartiles[0])\n",
        "print('Median: %.3f' % quartiles[1])\n",
        "print('Q3: %.3f' % quartiles[2])\n",
        "print('90 percentile: %.3f' % quartiles[3])\n",
        "print('95 percentile: %.3f' % quartiles[4])\n",
        "print('99 percentile: %.3f' % quartiles[5])\n",
        "print('Max: %.3f' % score_max)"
      ],
      "execution_count": 230,
      "outputs": [
        {
          "output_type": "stream",
          "text": [
            "Min: 2.070\n",
            "Q1: 224.033\n",
            "Median: 851.047\n",
            "Q3: 1316.935\n",
            "90 percentile: 2551.047\n",
            "95 percentile: 3620.460\n",
            "99 percentile: 6369.716\n",
            "Max: 10264.679\n"
          ],
          "name": "stdout"
        }
      ]
    },
    {
      "cell_type": "code",
      "metadata": {
        "id": "zaBEcduFDLYG",
        "colab_type": "code",
        "colab": {}
      },
      "source": [
        "userID = list(top500_ids)[2]\n",
        "url2 = (\"https://torre.bio/api/bios/%s\" % (userID))\n",
        "response2 = requests.get(url2, headers=headers)\n",
        "response2.json().keys()"
      ],
      "execution_count": 0,
      "outputs": []
    },
    {
      "cell_type": "code",
      "metadata": {
        "id": "muFIW2m3ecXQ",
        "colab_type": "code",
        "colab": {}
      },
      "source": [
        ""
      ],
      "execution_count": 0,
      "outputs": []
    }
  ]
}